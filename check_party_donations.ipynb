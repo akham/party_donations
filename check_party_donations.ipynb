{
 "cells": [
  {
   "cell_type": "markdown",
   "metadata": {},
   "source": [
    "# Дата-экспедиция - поиск информации о жертвователях партии \"Единая Россия\" #"
   ]
  },
  {
   "cell_type": "code",
   "execution_count": 1,
   "metadata": {
    "collapsed": false
   },
   "outputs": [],
   "source": [
    "import requests\n",
    "import pandas as pd\n",
    "import numpy as np\n",
    "import json\n",
    "from time import gmtime, strftime\n",
    "\n",
    "data_file = 'data.xlsx'# файл, в который были собраны данные из сканов финансовых отчетов"
   ]
  },
  {
   "cell_type": "markdown",
   "metadata": {},
   "source": [
    "## Очистка данных ##"
   ]
  },
  {
   "cell_type": "code",
   "execution_count": 2,
   "metadata": {
    "collapsed": false
   },
   "outputs": [
    {
     "name": "stdout",
     "output_type": "stream",
     "text": [
      "<class 'pandas.core.frame.DataFrame'>\n",
      "RangeIndex: 1719 entries, 0 to 1718\n",
      "Data columns (total 6 columns):\n",
      "year         1719 non-null object\n",
      "company      1719 non-null object\n",
      "inn          1719 non-null object\n",
      "money        1719 non-null float64\n",
      "region_id    1719 non-null int64\n",
      "region       1719 non-null object\n",
      "dtypes: float64(1), int64(1), object(4)\n",
      "memory usage: 80.7+ KB\n"
     ]
    }
   ],
   "source": [
    "data = pd.read_excel(data_file)\n",
    "\n",
    "# удалим столбец, в котором суммы представлены строками\n",
    "del data['money'] \n",
    "\n",
    "# переименуем столбец, в котором суммы являются числами\n",
    "data = data.rename(columns = {'money_cleared' : 'money'}) \n",
    "\n",
    "# уберем нечитаемые символы из названий регионов\n",
    "data.region = [r.strip() for r in data.region.tolist()] \n",
    "\n",
    "# если год где-то записан в виде целых чисел, запишем в виде строк\n",
    "data.year =[str(y) for y in data.year.tolist()] \n",
    "\n",
    "# если ИНН где-то записан в виде целых чисел, запишем в виде строк\n",
    "data.inn = [str(i) for i in data.inn.tolist()] \n",
    "data.info()"
   ]
  },
  {
   "cell_type": "code",
   "execution_count": 3,
   "metadata": {
    "collapsed": false
   },
   "outputs": [
    {
     "data": {
      "text/plain": [
       "1104"
      ]
     },
     "execution_count": 3,
     "metadata": {},
     "output_type": "execute_result"
    }
   ],
   "source": [
    "len(data.inn.unique()) # сколько уникальных ИНН в наборе"
   ]
  },
  {
   "cell_type": "code",
   "execution_count": 4,
   "metadata": {
    "collapsed": false
   },
   "outputs": [
    {
     "data": {
      "text/plain": [
       "7196806.511419429"
      ]
     },
     "execution_count": 4,
     "metadata": {},
     "output_type": "execute_result"
    }
   ],
   "source": [
    "data.money.mean() # средний размер пожертвования за все годы"
   ]
  },
  {
   "cell_type": "code",
   "execution_count": 5,
   "metadata": {
    "collapsed": false
   },
   "outputs": [
    {
     "data": {
      "text/html": [
       "<div>\n",
       "<table border=\"1\" class=\"dataframe\">\n",
       "  <thead>\n",
       "    <tr style=\"text-align: right;\">\n",
       "      <th></th>\n",
       "      <th>money_mean</th>\n",
       "      <th>money_sum</th>\n",
       "      <th>number_of_cases</th>\n",
       "      <th>year</th>\n",
       "    </tr>\n",
       "  </thead>\n",
       "  <tbody>\n",
       "    <tr>\n",
       "      <th>0</th>\n",
       "      <td>5.849650</td>\n",
       "      <td>1017.839181</td>\n",
       "      <td>174</td>\n",
       "      <td>2006</td>\n",
       "    </tr>\n",
       "    <tr>\n",
       "      <th>1</th>\n",
       "      <td>0.356000</td>\n",
       "      <td>1.780000</td>\n",
       "      <td>5</td>\n",
       "      <td>2007</td>\n",
       "    </tr>\n",
       "    <tr>\n",
       "      <th>2</th>\n",
       "      <td>5.415053</td>\n",
       "      <td>1018.029980</td>\n",
       "      <td>188</td>\n",
       "      <td>2008</td>\n",
       "    </tr>\n",
       "    <tr>\n",
       "      <th>3</th>\n",
       "      <td>17.123870</td>\n",
       "      <td>2191.855370</td>\n",
       "      <td>128</td>\n",
       "      <td>2009</td>\n",
       "    </tr>\n",
       "    <tr>\n",
       "      <th>4</th>\n",
       "      <td>9.191440</td>\n",
       "      <td>1351.141662</td>\n",
       "      <td>147</td>\n",
       "      <td>2010</td>\n",
       "    </tr>\n",
       "    <tr>\n",
       "      <th>5</th>\n",
       "      <td>10.833092</td>\n",
       "      <td>2816.603895</td>\n",
       "      <td>260</td>\n",
       "      <td>2011</td>\n",
       "    </tr>\n",
       "    <tr>\n",
       "      <th>6</th>\n",
       "      <td>7.593926</td>\n",
       "      <td>1002.398199</td>\n",
       "      <td>132</td>\n",
       "      <td>2012</td>\n",
       "    </tr>\n",
       "    <tr>\n",
       "      <th>7</th>\n",
       "      <td>5.693645</td>\n",
       "      <td>666.156416</td>\n",
       "      <td>117</td>\n",
       "      <td>2013</td>\n",
       "    </tr>\n",
       "    <tr>\n",
       "      <th>8</th>\n",
       "      <td>6.862861</td>\n",
       "      <td>1324.532263</td>\n",
       "      <td>193</td>\n",
       "      <td>2014</td>\n",
       "    </tr>\n",
       "    <tr>\n",
       "      <th>9</th>\n",
       "      <td>2.615929</td>\n",
       "      <td>980.973427</td>\n",
       "      <td>375</td>\n",
       "      <td>2015</td>\n",
       "    </tr>\n",
       "  </tbody>\n",
       "</table>\n",
       "</div>"
      ],
      "text/plain": [
       "   money_mean    money_sum  number_of_cases  year\n",
       "0    5.849650  1017.839181              174  2006\n",
       "1    0.356000     1.780000                5  2007\n",
       "2    5.415053  1018.029980              188  2008\n",
       "3   17.123870  2191.855370              128  2009\n",
       "4    9.191440  1351.141662              147  2010\n",
       "5   10.833092  2816.603895              260  2011\n",
       "6    7.593926  1002.398199              132  2012\n",
       "7    5.693645   666.156416              117  2013\n",
       "8    6.862861  1324.532263              193  2014\n",
       "9    2.615929   980.973427              375  2015"
      ]
     },
     "execution_count": 5,
     "metadata": {},
     "output_type": "execute_result"
    }
   ],
   "source": [
    "data.money = data.money / 1000000 # дальше всем суммы в миллионах рублей\n",
    "\n",
    "analysis = pd.DataFrame.from_dict({'number_of_cases' : data.groupby('year').size().tolist(), \n",
    "                                   'money_sum' : data.groupby('year')['money'].sum().tolist(),\n",
    "                                   'money_mean' : data.groupby('year')['money'].mean().tolist(),\n",
    "                                   'year' : sorted(list(data.year.unique()))})\n",
    "\n",
    "analysis"
   ]
  },
  {
   "cell_type": "code",
   "execution_count": 6,
   "metadata": {
    "collapsed": true
   },
   "outputs": [],
   "source": [
    "# сохраним файл для дальнейшей визуализации\n",
    "analysis.to_csv('analysis.csv')"
   ]
  },
  {
   "cell_type": "markdown",
   "metadata": {},
   "source": [
    "Сформируем .csv файл и преобразуем данные в формат json. В последнем случае ключами будут жертвователи - к каждому жертвователю припишем его ИНН, регион, год и сумму пожертвования"
   ]
  },
  {
   "cell_type": "code",
   "execution_count": 7,
   "metadata": {
    "collapsed": true
   },
   "outputs": [],
   "source": [
    "data.to_csv('party_donations.csv')"
   ]
  },
  {
   "cell_type": "code",
   "execution_count": 8,
   "metadata": {
    "collapsed": false
   },
   "outputs": [],
   "source": [
    "def create_single_company(inn): # эта функция создает json для одной компании и возвращает его\n",
    "        df = data[data.inn == inn]\n",
    "        d = {'inn' : inn,\n",
    "    # у компании названия могут писаться по-разному, в том числе могла быть смена имени, поэтому запишем все возможные\n",
    "             'company_names' : list(set(df.company)), \n",
    "             'region' : min(set(df.region)),\n",
    "    # donations - словарь с ключами-годами и значениями - суммами пожертвования в этот год\n",
    "             'donations' : dict(zip(df.year.tolist(), df.money.tolist()))}\n",
    "        return d\n",
    "    \n",
    "def create_json(data): # эта функция создает json всех компаний и записывает его в файл\n",
    "\n",
    "    all_inns = data.inn.unique()\n",
    "    all_companies = []\n",
    "  \n",
    "    for inn in all_inns:\n",
    "        all_companies.append(create_single_company(inn))\n",
    "        \n",
    "    with open('party_donations_json.json', 'w') as outfile:\n",
    "        json.dump(all_companies, outfile)\n",
    "        \n",
    "create_json(data)"
   ]
  },
  {
   "cell_type": "markdown",
   "metadata": {},
   "source": [
    "** Посмотрим на структуру json для одной компании **"
   ]
  },
  {
   "cell_type": "code",
   "execution_count": 9,
   "metadata": {
    "collapsed": false
   },
   "outputs": [
    {
     "data": {
      "text/plain": [
       "{'company_names': ['Региональный общественный фонд поддержки Всероссийской политической партии \"Единая Россия\"',\n",
       "  'Региональный общественный фонд поддержки ВП \"Единство и Отечество\"-Единая Россия',\n",
       "  'Региональный общественный фонд поддержки Всероссийской политической партии \"Единая Россия \"'],\n",
       " 'donations': {'2006': 6.8739999999999997,\n",
       "  '2008': 5.474837,\n",
       "  '2009': 32.642000000000003,\n",
       "  '2010': 26.830492,\n",
       "  '2011': 34.288915000000003,\n",
       "  '2012': 40.700000000000003,\n",
       "  '2013': 32.0,\n",
       "  '2014': 38.314571999999998},\n",
       " 'inn': '7743064487',\n",
       " 'region': 'г. Москва'}"
      ]
     },
     "execution_count": 9,
     "metadata": {},
     "output_type": "execute_result"
    }
   ],
   "source": [
    "create_single_company('7743064487')"
   ]
  },
  {
   "cell_type": "markdown",
   "metadata": {},
   "source": [
    "** Создадим файлы с метаданными **"
   ]
  },
  {
   "cell_type": "code",
   "execution_count": 10,
   "metadata": {
    "collapsed": false
   },
   "outputs": [],
   "source": [
    "# метаданные для .json файла\n",
    "\n",
    "meta_data = {'description' : 'В текущем наборе данных представлена информация о пожертвованиях юридических лиц партии \"Единая Россия\", начиная с 2006 года. Источник данных - финансовые отчеты партии, опубликованные ЦИК РФ.',\n",
    "             'versiondate' : strftime(\"%Y-%m-%d\", gmtime()), \n",
    "             'columns': [{'name': 'company_names',\n",
    "                         'caption': 'Названия компании-жертвователя',\n",
    "                         'type': 'list',\n",
    "                         'subcolumns_type': 'string'},\n",
    "                        \n",
    "                        {'name': 'inn',\n",
    "                         'caption': 'ИНН компании-жертвователя',\n",
    "                         'type': 'string',\n",
    "                         'subcolumns_type': np.nan},\n",
    "                        \n",
    "                        {'name': 'region',\n",
    "                         'caption': 'Регион регистрации компании-жертвователя',\n",
    "                         'type': 'string',\n",
    "                         'subcolumns_type': np.nan},\n",
    "                        \n",
    "                        {'name': 'donations',\n",
    "                         'caption': 'Суммы пожертвований компании',\n",
    "                         'type': 'dict',\n",
    "                         'subcolumns_type': {'dict_keys' : 'year', \n",
    "                                             'dict_keys_caption' : 'Год пожертвования', \n",
    "                                             'dict_keys_type' : 'string', \n",
    "                                             'dict_values' : 'sums', \n",
    "                                             'dict_values_caption' : 'Сумма пожертвования (в год)', \n",
    "                                             'dict_values_type' : 'float'}\n",
    "                        }]\n",
    "            }\n",
    "\n",
    "        \n",
    "with open('party_donations_json_meta.json', 'w') as outfile:\n",
    "    json.dump(meta_data, outfile)"
   ]
  },
  {
   "cell_type": "code",
   "execution_count": 11,
   "metadata": {
    "collapsed": false
   },
   "outputs": [
    {
     "name": "stdout",
     "output_type": "stream",
     "text": [
      "<class 'pandas.core.frame.DataFrame'>\n",
      "RangeIndex: 1719 entries, 0 to 1718\n",
      "Data columns (total 6 columns):\n",
      "year         1719 non-null object\n",
      "company      1719 non-null object\n",
      "inn          1719 non-null object\n",
      "money        1719 non-null float64\n",
      "region_id    1719 non-null int64\n",
      "region       1719 non-null object\n",
      "dtypes: float64(1), int64(1), object(4)\n",
      "memory usage: 80.7+ KB\n"
     ]
    }
   ],
   "source": [
    "data.info()"
   ]
  },
  {
   "cell_type": "code",
   "execution_count": 12,
   "metadata": {
    "collapsed": false
   },
   "outputs": [
    {
     "data": {
      "text/html": [
       "<div>\n",
       "<table border=\"1\" class=\"dataframe\">\n",
       "  <thead>\n",
       "    <tr style=\"text-align: right;\">\n",
       "      <th></th>\n",
       "      <th>data_type</th>\n",
       "      <th>field_name</th>\n",
       "      <th>description</th>\n",
       "    </tr>\n",
       "  </thead>\n",
       "  <tbody>\n",
       "    <tr>\n",
       "      <th>0</th>\n",
       "      <td>str</td>\n",
       "      <td>year</td>\n",
       "      <td>Год, когда было совершено пожертвование</td>\n",
       "    </tr>\n",
       "    <tr>\n",
       "      <th>1</th>\n",
       "      <td>str</td>\n",
       "      <td>company</td>\n",
       "      <td>Названия компании-жертвователя</td>\n",
       "    </tr>\n",
       "    <tr>\n",
       "      <th>2</th>\n",
       "      <td>str</td>\n",
       "      <td>inn</td>\n",
       "      <td>ИНН компании-жертвователя</td>\n",
       "    </tr>\n",
       "    <tr>\n",
       "      <th>3</th>\n",
       "      <td>float</td>\n",
       "      <td>money</td>\n",
       "      <td>Суммы пожертвований компании</td>\n",
       "    </tr>\n",
       "    <tr>\n",
       "      <th>4</th>\n",
       "      <td>int</td>\n",
       "      <td>region_id</td>\n",
       "      <td>Идентификатор региона регистрации компании-жер...</td>\n",
       "    </tr>\n",
       "    <tr>\n",
       "      <th>5</th>\n",
       "      <td>str</td>\n",
       "      <td>region</td>\n",
       "      <td>Регион регистрации компании-жертвователя</td>\n",
       "    </tr>\n",
       "  </tbody>\n",
       "</table>\n",
       "</div>"
      ],
      "text/plain": [
       "  data_type field_name                                        description\n",
       "0       str       year            Год, когда было совершено пожертвование\n",
       "1       str    company                     Названия компании-жертвователя\n",
       "2       str        inn                          ИНН компании-жертвователя\n",
       "3     float      money                       Суммы пожертвований компании\n",
       "4       int  region_id  Идентификатор региона регистрации компании-жер...\n",
       "5       str     region           Регион регистрации компании-жертвователя"
      ]
     },
     "execution_count": 12,
     "metadata": {},
     "output_type": "execute_result"
    }
   ],
   "source": [
    "# метаданные для .csv файла\n",
    "\n",
    "def create_csv_metadata(df):\n",
    "    # забираем названия колонок\n",
    "    column_names = list(df.columns)\n",
    "    \n",
    "    # забираем типы данных из колонок (при условии, что, как и положено, в колонке данные одного типа)\n",
    "    types = []\n",
    "    replace = [\"'\", '64', 'numpy.', '>']\n",
    "    for col in list(df.columns):\n",
    "        type_ = str(type(df[col].tolist()[0])).split()[1]\n",
    "        for char in replace:\n",
    "            type_ = type_.replace(char, '')\n",
    "        types.append(type_)\n",
    "        \n",
    "    return pd.DataFrame.from_dict({'field_name' : column_names, 'data_type' : types})\n",
    "\n",
    "csv_meta = create_csv_metadata(data)\n",
    "\n",
    "description = ['Год, когда было совершено пожертвование', \n",
    "               'Названия компании-жертвователя', \n",
    "               'ИНН компании-жертвователя',\n",
    "              'Суммы пожертвований компании', \n",
    "               'Идентификатор региона регистрации компании-жертвователя',\n",
    "               'Регион регистрации компании-жертвователя']\n",
    "\n",
    "csv_meta['description'] = description\n",
    "csv_meta"
   ]
  },
  {
   "cell_type": "code",
   "execution_count": 13,
   "metadata": {
    "collapsed": false
   },
   "outputs": [],
   "source": [
    "csv_meta.to_csv('party_donations_csv_meta.csv')"
   ]
  },
  {
   "cell_type": "markdown",
   "metadata": {},
   "source": [
    "## Поиск госконтрактов, заключенных с компаниями, жертвовавшими партии Единая Россия. ##"
   ]
  },
  {
   "cell_type": "code",
   "execution_count": 14,
   "metadata": {
    "collapsed": true
   },
   "outputs": [],
   "source": [
    "# Используем API Clearspending\n",
    "URL_CONTRACTS = 'http://openapi.clearspending.ru/restapi/v3/contracts/select/?'\n",
    "\n",
    "CUST_INN = 'customerinn=' \n",
    "SUP_INN = 'supplierinn='\n",
    "\n",
    "inns = [str(inn) for inn in data.inn.unique()]# список ИНН уникальных жертвователей партии"
   ]
  },
  {
   "cell_type": "code",
   "execution_count": 15,
   "metadata": {
    "collapsed": false
   },
   "outputs": [],
   "source": [
    "# список url для обращения к API в каждом году\n",
    "\n",
    "url_list_2010 = [(URL_CONTRACTS + SUP_INN + inn + '&daterange=01.01.2010-31.12.2010') for inn in inns]\n",
    "url_list_2011 = [(URL_CONTRACTS + SUP_INN + inn + '&daterange=01.01.2011-31.12.2011') for inn in inns]\n",
    "url_list_2012 = [(URL_CONTRACTS + SUP_INN + inn + '&daterange=01.01.2012-31.12.2012') for inn in inns]\n",
    "url_list_2013 = [(URL_CONTRACTS + SUP_INN + inn + '&daterange=01.01.2013-31.12.2013') for inn in inns]\n",
    "url_list_2014 = [(URL_CONTRACTS + SUP_INN + inn + '&daterange=01.01.2014-31.12.2014') for inn in inns]\n",
    "url_list_2015 = [(URL_CONTRACTS + SUP_INN + inn + '&daterange=01.01.2015-31.12.2015') for inn in inns]\n",
    "url_list_2016 = [(URL_CONTRACTS + SUP_INN + inn + '&daterange=01.01.2016-31.12.2016') for inn in inns]\n",
    "url_list_2017 = [(URL_CONTRACTS + SUP_INN + inn + '&daterange=01.01.2017-31.12.2017') for inn in inns]"
   ]
  },
  {
   "cell_type": "markdown",
   "metadata": {},
   "source": [
    "** Функция `total_contracts_as_supplier` ищет, сколько контрактов компании получили в определенном году, возвращает в виде словаря **"
   ]
  },
  {
   "cell_type": "code",
   "execution_count": 16,
   "metadata": {
    "collapsed": true
   },
   "outputs": [],
   "source": [
    "def total_contracts_as_supplier(url_list):\n",
    "    total_contracts = {}\n",
    "    \n",
    "    for url in url_list:\n",
    "        page = requests.get(url)\n",
    "     \n",
    "        if page.status_code != 404:\n",
    "            contracts = page.json()['contracts']\n",
    "            \n",
    "            # приписали число контрактов, заключенных компанией-поставщиком\n",
    "            total_contracts[url[73:83]] = contracts['total'] \n",
    "        else:\n",
    "            total_contracts[url[73:83]] = 0       \n",
    "\n",
    "        \n",
    "    return total_contracts"
   ]
  },
  {
   "cell_type": "markdown",
   "metadata": {},
   "source": [
    "** Запишем все контракты с 2012 года в таблицу `all_contracts`. **"
   ]
  },
  {
   "cell_type": "code",
   "execution_count": null,
   "metadata": {
    "collapsed": true
   },
   "outputs": [],
   "source": [
    "all_contracts = {'2012' : total_contracts_as_supplier(url_list_2012), '2013' : total_contracts_as_supplier(url_list_2013), \n",
    "                 '2014' : total_contracts_as_supplier(url_list_2014), '2015' : total_contracts_as_supplier(url_list_2015), \n",
    "                 '2016' : total_contracts_as_supplier(url_list_2016), '2017' : total_contracts_as_supplier(url_list_2017)}\n",
    "\n",
    "all_contracts_df = pd.DataFrame.from_dict(all_contracts)\n",
    "\n",
    "# Запишем в файл\n",
    "\n",
    "all_contracts_df.to_csv('all_contracts_df.csv')"
   ]
  }
 ],
 "metadata": {
  "anaconda-cloud": {},
  "kernelspec": {
   "display_name": "Python [default]",
   "language": "python",
   "name": "python3"
  },
  "language_info": {
   "codemirror_mode": {
    "name": "ipython",
    "version": 3
   },
   "file_extension": ".py",
   "mimetype": "text/x-python",
   "name": "python",
   "nbconvert_exporter": "python",
   "pygments_lexer": "ipython3",
   "version": "3.5.2"
  }
 },
 "nbformat": 4,
 "nbformat_minor": 0
}
